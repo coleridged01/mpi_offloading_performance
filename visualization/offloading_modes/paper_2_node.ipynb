{
 "cells": [
  {
   "cell_type": "code",
   "id": "initial_id",
   "metadata": {
    "collapsed": true,
    "ExecuteTime": {
     "end_time": "2025-07-02T21:30:11.829772Z",
     "start_time": "2025-07-02T21:30:10.442625Z"
    }
   },
   "source": [
    "from visualization.helper.process_plotter import plot_fixed_process_count\n",
    "\n",
    "off_modes = ['tm', 'dpu']"
   ],
   "outputs": [],
   "execution_count": 1
  },
  {
   "metadata": {
    "ExecuteTime": {
     "end_time": "2025-07-02T21:30:45.702200Z",
     "start_time": "2025-07-02T21:30:11.879175Z"
    }
   },
   "cell_type": "code",
   "source": "plot_fixed_process_count(8, off_modes, 2, save=True, savepath=\"./paper\")",
   "id": "10539887a4d95f7a",
   "outputs": [],
   "execution_count": 2
  },
  {
   "metadata": {
    "ExecuteTime": {
     "end_time": "2025-07-02T21:31:20.673771Z",
     "start_time": "2025-07-02T21:30:45.705821Z"
    }
   },
   "cell_type": "code",
   "source": "plot_fixed_process_count(16, off_modes, 2, save=True, savepath=\"./paper\")",
   "id": "a9a432582c064e10",
   "outputs": [],
   "execution_count": 3
  },
  {
   "metadata": {
    "ExecuteTime": {
     "end_time": "2025-07-02T21:31:54.738018Z",
     "start_time": "2025-07-02T21:31:20.681745Z"
    }
   },
   "cell_type": "code",
   "source": "plot_fixed_process_count(32, off_modes, 2, save=True, savepath=\"./paper\")",
   "id": "3c4553a99fd6e910",
   "outputs": [],
   "execution_count": 4
  },
  {
   "metadata": {
    "ExecuteTime": {
     "end_time": "2025-07-02T21:32:28.010864Z",
     "start_time": "2025-07-02T21:31:54.744777Z"
    }
   },
   "cell_type": "code",
   "source": "plot_fixed_process_count(64, off_modes, 2, save=True, savepath=\"./paper\")",
   "id": "d514fd761d5032ec",
   "outputs": [],
   "execution_count": 5
  }
 ],
 "metadata": {
  "kernelspec": {
   "display_name": "Python 3",
   "language": "python",
   "name": "python3"
  },
  "language_info": {
   "codemirror_mode": {
    "name": "ipython",
    "version": 2
   },
   "file_extension": ".py",
   "mimetype": "text/x-python",
   "name": "python",
   "nbconvert_exporter": "python",
   "pygments_lexer": "ipython2",
   "version": "2.7.6"
  }
 },
 "nbformat": 4,
 "nbformat_minor": 5
}
