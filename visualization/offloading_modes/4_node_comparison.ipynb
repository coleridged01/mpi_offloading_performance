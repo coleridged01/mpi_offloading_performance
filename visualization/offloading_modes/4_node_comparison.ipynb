{
 "cells": [
  {
   "metadata": {
    "ExecuteTime": {
     "end_time": "2025-07-02T21:32:21.600150Z",
     "start_time": "2025-07-02T21:32:21.595399Z"
    }
   },
   "cell_type": "code",
   "source": [
    "from visualization.helper.process_plotter import plot_fixed_process_count\n",
    "\n",
    "target = '/Users/coleridged/WritersideProjects/thesis/plots/osu'\n",
    "\n",
    "with open('plot_dep.txt', 'r') as file:\n",
    "    cont = file.read()\n",
    "    dep = cont.split('\\n')\n",
    "\n",
    "\n",
    "off_modes = ['no-offloading', 'tm', 'dpu']"
   ],
   "id": "8560b33a68e6599e",
   "outputs": [],
   "execution_count": 2
  },
  {
   "metadata": {
    "ExecuteTime": {
     "end_time": "2025-07-02T21:32:33.548553Z",
     "start_time": "2025-07-02T21:32:21.607001Z"
    }
   },
   "cell_type": "code",
   "source": "plot_fixed_process_count(8, off_modes, 4, save=True, title=False, save_list=dep, savepath=target)",
   "id": "38a7455193e226f4",
   "outputs": [],
   "execution_count": 3
  },
  {
   "metadata": {
    "ExecuteTime": {
     "end_time": "2025-07-02T21:32:45.283517Z",
     "start_time": "2025-07-02T21:32:33.556305Z"
    }
   },
   "cell_type": "code",
   "source": "plot_fixed_process_count(16, off_modes, 4, save=True, title=False, save_list=dep, savepath=target)",
   "id": "df1f3bf027dd86d3",
   "outputs": [],
   "execution_count": 4
  },
  {
   "metadata": {
    "ExecuteTime": {
     "end_time": "2025-07-02T21:32:57.122965Z",
     "start_time": "2025-07-02T21:32:45.290307Z"
    }
   },
   "cell_type": "code",
   "source": "plot_fixed_process_count(32, off_modes, 4, save=True, title=False, save_list=dep, savepath=target)",
   "id": "7ec0c276c939da23",
   "outputs": [],
   "execution_count": 5
  },
  {
   "metadata": {
    "ExecuteTime": {
     "end_time": "2025-07-02T21:33:08.717880Z",
     "start_time": "2025-07-02T21:32:57.130639Z"
    }
   },
   "cell_type": "code",
   "source": [
    "offloading_modes = ['no-offloading', 'tm']\n",
    "plot_fixed_process_count(64, off_modes, 4, save=True, title=False, save_list=dep, savepath=target)"
   ],
   "id": "5b0bebe4cbaeed84",
   "outputs": [],
   "execution_count": 6
  },
  {
   "metadata": {},
   "cell_type": "markdown",
   "source": "Tag Matching causes the MLX Driver to fail at 128 processes",
   "id": "a53a6f0482ffed82"
  }
 ],
 "metadata": {
  "kernelspec": {
   "name": "python3",
   "language": "python",
   "display_name": "Python 3 (ipykernel)"
  }
 },
 "nbformat": 5,
 "nbformat_minor": 9
}
