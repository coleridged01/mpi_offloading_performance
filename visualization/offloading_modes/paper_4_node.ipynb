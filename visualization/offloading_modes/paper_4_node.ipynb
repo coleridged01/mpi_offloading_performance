{
 "cells": [
  {
   "cell_type": "code",
   "id": "initial_id",
   "metadata": {
    "collapsed": true,
    "ExecuteTime": {
     "end_time": "2025-06-30T17:37:00.200724Z",
     "start_time": "2025-06-30T17:37:00.194713Z"
    }
   },
   "source": [
    "from visualization.helper.process_plotter import plot_fixed_process_count\n",
    "\n",
    "off_modes = ['tm', 'dpu']"
   ],
   "outputs": [],
   "execution_count": 1
  },
  {
   "metadata": {
    "ExecuteTime": {
     "end_time": "2025-06-30T17:37:23.007135Z",
     "start_time": "2025-06-30T17:37:00.203470Z"
    }
   },
   "cell_type": "code",
   "source": "plot_fixed_process_count(8, off_modes, 4, save=True, savepath=\"./paper\", title=False)",
   "id": "9ba19fcce3cbd8e0",
   "outputs": [],
   "execution_count": 2
  },
  {
   "metadata": {
    "ExecuteTime": {
     "end_time": "2025-06-30T17:37:45.662140Z",
     "start_time": "2025-06-30T17:37:23.072777Z"
    }
   },
   "cell_type": "code",
   "source": "plot_fixed_process_count(16, off_modes, 4, save=True, savepath=\"./paper\", title=False)",
   "id": "bced06345491112c",
   "outputs": [],
   "execution_count": 3
  },
  {
   "metadata": {
    "ExecuteTime": {
     "end_time": "2025-06-30T17:38:08.328304Z",
     "start_time": "2025-06-30T17:37:45.669199Z"
    }
   },
   "cell_type": "code",
   "source": "plot_fixed_process_count(32, off_modes, 4, save=True, savepath=\"./paper\", title=False)",
   "id": "f6d8b244ff9f9fa4",
   "outputs": [],
   "execution_count": 4
  },
  {
   "metadata": {
    "ExecuteTime": {
     "end_time": "2025-06-30T17:38:30.465338Z",
     "start_time": "2025-06-30T17:38:08.338698Z"
    }
   },
   "cell_type": "code",
   "source": "plot_fixed_process_count(64, off_modes, 4, save=True, savepath=\"./paper\", title=False)",
   "id": "ab4e98732bfd8954",
   "outputs": [],
   "execution_count": 5
  }
 ],
 "metadata": {
  "kernelspec": {
   "display_name": "Python 3",
   "language": "python",
   "name": "python3"
  },
  "language_info": {
   "codemirror_mode": {
    "name": "ipython",
    "version": 2
   },
   "file_extension": ".py",
   "mimetype": "text/x-python",
   "name": "python",
   "nbconvert_exporter": "python",
   "pygments_lexer": "ipython2",
   "version": "2.7.6"
  }
 },
 "nbformat": 4,
 "nbformat_minor": 5
}
