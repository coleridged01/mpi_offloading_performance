{
 "cells": [
  {
   "metadata": {
    "ExecuteTime": {
     "end_time": "2025-02-28T20:47:25.606346Z",
     "start_time": "2025-02-28T20:47:25.592752Z"
    }
   },
   "cell_type": "code",
   "source": [
    "from visualization.helper.process_plotter import plot_fixed_process_count\n",
    "\n",
    "target = '/Users/coleridged/WritersideProjects/thesis/plots/osu'\n",
    "\n",
    "with open('plot_dep.txt', 'r') as file:\n",
    "    cont = file.read()\n",
    "    dep = cont.split('\\n')\n",
    "\n",
    "\n",
    "off_modes = ['no-offloading', 'tm', 'dpu']"
   ],
   "id": "b6ab18be08e5aa7e",
   "outputs": [],
   "execution_count": 1
  },
  {
   "metadata": {
    "ExecuteTime": {
     "end_time": "2025-02-28T20:47:37.132288Z",
     "start_time": "2025-02-28T20:47:25.624846Z"
    }
   },
   "cell_type": "code",
   "source": "plot_fixed_process_count(8, off_modes, 2, save=True, title=False, save_list=dep, savepath=target)",
   "id": "605529d820f91ae3",
   "outputs": [],
   "execution_count": 2
  },
  {
   "metadata": {
    "ExecuteTime": {
     "end_time": "2025-02-28T20:47:51.542496Z",
     "start_time": "2025-02-28T20:47:37.179027Z"
    }
   },
   "cell_type": "code",
   "source": "plot_fixed_process_count(16, off_modes, 2, save=True, title=False, save_list=dep, savepath=target)",
   "id": "e385d4850796da4d",
   "outputs": [],
   "execution_count": 3
  },
  {
   "metadata": {
    "ExecuteTime": {
     "end_time": "2025-02-28T20:48:04.918618Z",
     "start_time": "2025-02-28T20:47:51.546833Z"
    }
   },
   "cell_type": "code",
   "source": "plot_fixed_process_count(32, off_modes, 2, save=True, title=False, save_list=dep, savepath=target)",
   "id": "209abbb36160993f",
   "outputs": [],
   "execution_count": 4
  },
  {
   "metadata": {
    "ExecuteTime": {
     "end_time": "2025-02-28T20:48:17.044875Z",
     "start_time": "2025-02-28T20:48:04.922689Z"
    }
   },
   "cell_type": "code",
   "source": [
    "off_modes = ['no-offloading', 'tm']\n",
    "plot_fixed_process_count(64, off_modes, 2, save=True, title=False, save_list=dep, savepath=target)"
   ],
   "id": "a347257de5ef51e1",
   "outputs": [],
   "execution_count": 5
  }
 ],
 "metadata": {
  "kernelspec": {
   "display_name": "Python 3",
   "language": "python",
   "name": "python3"
  },
  "language_info": {
   "codemirror_mode": {
    "name": "ipython",
    "version": 2
   },
   "file_extension": ".py",
   "mimetype": "text/x-python",
   "name": "python",
   "nbconvert_exporter": "python",
   "pygments_lexer": "ipython2",
   "version": "2.7.6"
  }
 },
 "nbformat": 4,
 "nbformat_minor": 5
}
