{
 "cells": [
  {
   "metadata": {
    "ExecuteTime": {
     "end_time": "2025-02-28T21:24:18.194241Z",
     "start_time": "2025-02-28T21:24:18.190951Z"
    }
   },
   "cell_type": "code",
   "source": "import visualization.helper.jacobi_plotter as jp",
   "id": "d0f93b6c0cdc82fe",
   "outputs": [],
   "execution_count": 1
  },
  {
   "metadata": {
    "ExecuteTime": {
     "end_time": "2025-02-28T21:24:19.138725Z",
     "start_time": "2025-02-28T21:24:18.196454Z"
    }
   },
   "cell_type": "code",
   "source": "jp.plot_jacobi(4, ['no-offloading', 'tm', 'dpu'], 2, title=False, save=True)",
   "id": "fb2dae7b011ccbfd",
   "outputs": [],
   "execution_count": 2
  },
  {
   "metadata": {
    "ExecuteTime": {
     "end_time": "2025-02-28T21:24:20.091711Z",
     "start_time": "2025-02-28T21:24:19.183874Z"
    }
   },
   "cell_type": "code",
   "source": "jp.plot_jacobi(8, ['no-offloading', 'tm', 'dpu'], 2, title=False, save=True)",
   "id": "ceb096bf31f519c1",
   "outputs": [],
   "execution_count": 3
  },
  {
   "metadata": {
    "ExecuteTime": {
     "end_time": "2025-02-28T21:24:21.020003Z",
     "start_time": "2025-02-28T21:24:20.095765Z"
    }
   },
   "cell_type": "code",
   "source": "jp.plot_jacobi(16, ['no-offloading', 'tm', 'dpu'], 2, title=False, save=True)",
   "id": "57694ad924c7148f",
   "outputs": [],
   "execution_count": 4
  },
  {
   "metadata": {
    "ExecuteTime": {
     "end_time": "2025-02-28T21:24:21.999522Z",
     "start_time": "2025-02-28T21:24:21.024017Z"
    }
   },
   "cell_type": "code",
   "source": "jp.plot_jacobi(32, ['no-offloading', 'tm', 'dpu'], 2, title=False, save=True)",
   "id": "689ef9c7462ac70b",
   "outputs": [],
   "execution_count": 5
  },
  {
   "metadata": {
    "ExecuteTime": {
     "end_time": "2025-02-28T21:24:22.922891Z",
     "start_time": "2025-02-28T21:24:22.003542Z"
    }
   },
   "cell_type": "code",
   "source": "jp.plot_jacobi(64, ['no-offloading', 'tm'], 2, title=False, save=True)",
   "id": "644c0f3177a3fb77",
   "outputs": [],
   "execution_count": 6
  }
 ],
 "metadata": {
  "kernelspec": {
   "name": "python3",
   "language": "python",
   "display_name": "Python 3 (ipykernel)"
  }
 },
 "nbformat": 5,
 "nbformat_minor": 9
}
